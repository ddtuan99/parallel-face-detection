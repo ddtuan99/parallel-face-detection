{
  "nbformat": 4,
  "nbformat_minor": 0,
  "metadata": {
    "colab": {
      "name": "Report.ipynb",
      "provenance": [],
      "collapsed_sections": [],
      "toc_visible": true
    },
    "kernelspec": {
      "name": "python3",
      "display_name": "Python 3"
    },
    "language_info": {
      "name": "python"
    },
    "accelerator": "GPU"
  },
  "cells": [
    {
      "cell_type": "markdown",
      "metadata": {
        "id": "1ShnJC8Rv0AM"
      },
      "source": [
        "# Đồ án môn học Lập trình song song ứng dụng\n",
        "\n",
        "# Phát hiện khuôn mặt bằng Cascaded-Classifiers\n",
        "\n",
        "## Giáo viên: Trần Trung Kiên\n",
        "\n",
        "## Sinh viên:\n",
        "- 1712628 - Huỳnh Hiếu Nhân\n",
        "- 1712657 - Chung Kiệt Phong\n",
        "- 1712869 - Đào Duy Tuấn"
      ]
    },
    {
      "cell_type": "markdown",
      "metadata": {
        "id": "-7VEgJbsv4Uw"
      },
      "source": [
        "---"
      ]
    },
    {
      "cell_type": "markdown",
      "metadata": {
        "id": "_lTbVE7gXrxE"
      },
      "source": [
        "# 1. Mô tả ứng dụng"
      ]
    },
    {
      "cell_type": "markdown",
      "metadata": {
        "id": "VkkX0gY6v5co"
      },
      "source": [
        "- Nhóm em chọn ứng dụng Phát hiện khuôn mặt bằng Cascaded-Classifiers\n",
        "\t- Input: một tấm ảnh RGB\n",
        "\t- Output: tấm ảnh đầu vào có bounding box ở các khuôn mặt trong ảnh (nếu có)\n",
        "\t- Ý nghĩa của ứng dụng trong thực tế:\n",
        "\t\t- Hỗ trợ tính năng autofocus trên máy ảnh\n",
        "\t\t- Là bước quan trọng trong các hệ thống sử dụng nhận diện khuôn mặt: giám sát, an ninh, cơ sở dữ liệu, chăm sóc khách hàng\n",
        "\t\t- Ứng dụng để tự động đề xuất gắn thẻ cho ảnh trên mạng xã hội\n",
        "- Lý do cần tăng tốc ứng dụng:\n",
        "\t- Có nhiều ý nghĩa thực tế\n",
        "\t- Ứng dụng sẽ chạy chậm nếu cài đặt tuần tự\n",
        "\t- Nhu cầu xử lý dữ liệu lớn, ảnh có độ phân giải cao, video, streaming video trong thời gian thực\n",
        "- Tiềm năng song song hóa của ứng dụng: \n",
        "  - Các khung cửa sổ để phát hiện khuôn mặt ở mọi vị trí trong ảnh và các kích thước khác nhau của khung cửa số xử lý độc lập với nhau\n",
        "  - Tính tuần tự của các giai đoạn kiểm tra có thách thức lớn nhưng tốc độ xử lý được gia tăng đáng kể nếu có thể song song hóa phần này"
      ]
    },
    {
      "cell_type": "markdown",
      "metadata": {
        "id": "0WPaT2YewLtY"
      },
      "source": [
        "---"
      ]
    },
    {
      "cell_type": "markdown",
      "metadata": {
        "id": "7WS47gU0XR40"
      },
      "source": [
        "# 2. Cài đặt tuần tự"
      ]
    },
    {
      "cell_type": "markdown",
      "metadata": {
        "id": "kG2srB4UiYjo"
      },
      "source": [
        "## 2.1. Thiết kế"
      ]
    },
    {
      "cell_type": "markdown",
      "metadata": {
        "id": "av7_nMd0X0BM"
      },
      "source": [
        "###2.1.1. Khái quát về Haar Cascaded-Classifiers\n",
        "\n",
        "Thế nào là Cascaded-classifiers ?\n",
        "\n",
        "\n",
        "![cascaded-classifiers.png](https://raw.githubusercontent.com/ddtuan99/parallel-face-detection/main/assets/cascaded-classifiers.png)\n",
        "\n"
      ]
    },
    {
      "cell_type": "markdown",
      "metadata": {
        "id": "pc5GQ8803ZXv"
      },
      "source": [
        "* Trong một bức ảnh, hầu hết là các vùng không phải gương mặt. Vì vậy, ứng với mỗi classifier, ta chỉ cần kiểm tra xem cửa sổ đang xét có phải khuôn mặt hay không. Nếu không phải, loại bỏ cửa sổ ngay mà không cần đến các classifier phía sau. Cửa sổ mà ta đang xét được xác định là khuôn mặt khi nó vượt qua tất cả các classifiers.\n",
        "* Các features được nhóm thành từng stage khác nhau thay vì dùng tất cả các features để kiểm tra một cửa sổ. Mỗi stage có thể có nhiều hoặc ít features hơn những stages khác. \n",
        "* Khi xác định cửa sổ không chứa khuôn mặt, loại bỏ nó ngay và không cần dùng số lượng features còn lại. Điều này giúp giảm thời gian kiểm tra mỗi cửa sổ đi đáng kể. \n",
        "\n",
        "####- Haar-like feature\n",
        "\n",
        "\n",
        "\n",
        "![haar-like-feature.png](https://raw.githubusercontent.com/ddtuan99/parallel-face-detection/main/assets/haar-like-feature.png)\n",
        "    \n",
        "\n",
        "\n",
        "> Một số Feature cơ bản:\n",
        "\n",
        "\n",
        "\n",
        "![haar-features.png](https://raw.githubusercontent.com/ddtuan99/parallel-face-detection/main/assets/haar-features.png)\n"
      ]
    },
    {
      "cell_type": "markdown",
      "metadata": {
        "id": "f7WW1Gav3hFL"
      },
      "source": [
        "###2.1.2. Các bước triển khai\n",
        "- Input.\n",
        "\n",
        "- Chuyển ảnh đầu vào sang ảnh xám.\n",
        "\n",
        "- Tính Summed Area Table (SAT).\n",
        "\n",
        "- Trượt khung cửa sổ classifier.\n",
        "\n",
        "- Gom nhóm các khung cửa sổ.\n",
        "\n",
        "- Output.\n",
        "\n",
        "####- Input: \n",
        "Một tấm ảnh RGB, mô hình Haar Cascade đã train sẵn\n",
        "\n",
        "#### - Đọc mô hình Haar Cascade: \n",
        "Dữ liệu dùng để train: 5000 mẫu positive và 3000 mẫu negative\n",
        "\n",
        "Gồm nhiều Classifier, mỗi Classifier có một threshold và nhiều Tree, mỗi Tree gồm các node: node trong chứa Feature và threshold; node lá chứa giá trị trả về. Mỗi Feature được định nghĩa bởi hai hoặc ba Rectangle.\n",
        "\n",
        "Minh hoạ cấu trúc một Classifier:\n",
        "\n",
        "<img src=https://raw.githubusercontent.com/ddtuan99/parallel-face-detection/main/assets/classifier.jpg alt=\"classifier.jpg\" width=\"700\"/>\n",
        "\n",
        "\n",
        "####- Tính Summed Area Table (SAT):\n",
        "Là một ma trận có kích thước như ảnh đầu vào. Giá trị tại vị trí $(x, y)$ của bảng SAT được tính bằng tổng độ xám của các pixel trong hình chữ nhật có tọa độ 2 góc đối là $(0, 0)$ và $(x, y)$.\n",
        "\n",
        "\n",
        "> Công thức tính nhanh:\n",
        " SAT(x,y) = I(x,y) + SAT(x-1,y) + SAT(x,y-1) - SAT(x-1,y-1)\n",
        "\n",
        "\n",
        "\n",
        "Sử dụng để tính nhanh Feature:\n",
        "> SUM(sub-retangle) = SAT(bottom right) - SAT(top right) - SAT(bottom left) + SAT(top left) \n",
        "\n",
        "Ảnh minh hoạ:\n",
        "![summed-area-table.png](https://raw.githubusercontent.com/ddtuan99/parallel-face-detection/main/assets/summed-area-table.png)\n",
        "\n",
        "####- Trượt khung cửa sổ:\n",
        "Có kích thước ban đầu là 24x24 trên ảnh xám. Vùng ảnh trong khung cửa sổ được đưa vào Cascaded-Classifiers. Các Tree trong một Classifier sẽ tính Feature mà nó giữ để quyết định giá trị trả về. Classifier lấy tổng giá trị của các Tree, so sánh với threshold để quyết định đẩy vùng ảnh đang xét sang Classifier sau hay loại bỏ. Ảnh cứ thế được lan truyền qua các Classifier cho tới khi bị loại bỏ hoặc ra khỏi Classifier cuối cùng thì vùng ảnh trong khung cửa sổ được ghi nhận lại. Lặp lại quá trình trên với khung cửa sổ có kích thước lớn hơn cho tới tới khi kích thước khung cửa sổ vượt quá kích thước ảnh.\n",
        "\n",
        "\n",
        "> Minh hoạ:\n",
        "\n",
        "\n",
        "    \n",
        "![sliding-dectection-window.gif](https://raw.githubusercontent.com/ddtuan99/parallel-face-detection/main/assets/sliding-dectection-window.gif)\n",
        "\n",
        "####- Gom nhóm các khung cửa sổ:\n",
        "- Phát hiện cùng một khuôn mặt: hai khung cửa sổ có khoảng cách giữa các cạnh tương ứng đều nhỏ hơn một hằng số $\\epsilon$ chỉ định trước thì thuộc cùng một nhóm và ngược lại.\n",
        "\n",
        "- Sau đó, loại bỏ các nhóm có số khung cửa sổ thấp hơn ngưỡng chỉ định trước (giảm false positive).\n",
        "\n",
        "- Ở mỗi nhóm được giữ lại, tính trung bình tọa độ các khung cửa sổ trong nhóm để gộp các khung thành một bounding box duy nhất và vẽ lên ảnh kết quả.\n",
        "\n",
        "####- Output: \n",
        "Tấm ảnh đầu vào có bounding box ở các khuôn mặt trong ảnh (nếu có)"
      ]
    },
    {
      "cell_type": "markdown",
      "metadata": {
        "id": "FTDOF_qH29A5"
      },
      "source": [
        "## 2.2. Đánh giá\n",
        "\n",
        "- #### Kịch bản thí nghiệm : \n",
        "    - Thí nghiệm trên ảnh 501 x 350 có 1 mặt người.\n",
        "\n",
        "    ![picture](https://drive.google.com/uc?export=view&id=1PyMd0pD-uG4uIJlZ6Szds_xqHrwbyGdg)\n",
        "\n",
        "    - Thí nghiệm trên ảnh 500 x 768 có 2 mặt người.\n",
        "\n",
        "    ![picture](https://drive.google.com/uc?export=view&id=1zqxGM0fQtrdzw_djIIOFB-Bp7_fGeO4l)\n",
        "\n",
        "    - Thí nghiệm trên ảnh 800 x 533 có 6 mặt người.\n",
        "\n",
        "    ![picture](https://drive.google.com/uc?export=view&id=1BULGaUzD4SeGMWj4sYTLzejv51qBL5Iw)\n",
        "\n",
        "    - Thí nghiệm trên ảnh 1000 x 666 có 10 mặt người.\n",
        "\n",
        "    ![picture](https://drive.google.com/uc?export=view&id=1yR2Rik1caiR3o1WuYUYVp-RbfECHoKPi)\n",
        "  \n",
        "    - Thí nghiệm trên ảnh 660 x 478 có 29 mặt người.\n",
        "    ![picture](https://drive.google.com/uc?export=view&id=1f2nUqiQ_gb4imtwnz6jLnF1Iu2ySI_Hg)\n",
        "\n",
        "- #### Kết quả thí nghiệm: \n",
        "    - Kết quả chạy ảnh có 1 mặt người đúng.\n",
        "\n",
        "    ![picture](https://drive.google.com/uc?export=view&id=1UfrFaAEJGagkZ75SXFSy3JPNYQgCJ-W9)\n",
        "\n",
        "    - Kết quả chạy ảnh 2 mặt người đúng.\n",
        "\n",
        "    ![picture](https://drive.google.com/uc?export=view&id=1QEUzwkm_aUmQvCvopZwV2BVCIUyqHy16)\n",
        "\n",
        "    - Kết quả chạy ảnh 6 mặt người đúng.\n",
        "\n",
        "    ![picture](https://drive.google.com/uc?export=view&id=1DU1UYGRoXa4SxWGquHmUlSAcCh4DB5ZG)\n",
        "\n",
        "    - Kết quả chạy ảnh 10 mặt người có một phần đúng và một phần sai.\n",
        "\n",
        "    ![picture](https://drive.google.com/uc?export=view&id=16r9xUJPw-n-5Zp5neBkNSDc5uH0kAOrn)\n",
        "\n",
        "    - Kết quả chạy ảnh 29 mặt người đúng.\n",
        "\n",
        "    ![picture](https://drive.google.com/uc?export=view&id=1J1UADiEyGRON1wLcuVV4bv2m-ZCqKYpn)\n",
        "\n",
        " - #### Chạy code :"
      ]
    },
    {
      "cell_type": "code",
      "metadata": {
        "colab": {
          "base_uri": "https://localhost:8080/"
        },
        "id": "xWjeodqAi3_8",
        "outputId": "34d8bd81-1123-4117-96fb-b284d3e5d5de"
      },
      "source": [
        "!python sequential.py haarcascade_frontalface_default.xml test.jpg result_test.jpg"
      ],
      "execution_count": null,
      "outputs": [
        {
          "output_type": "stream",
          "text": [
            "Jitted vs Numpy  error: 0.0009409751924721985\n",
            "Jitted vs Opencv error: 0.43670373538637014\n",
            "Time: 4.023804664611816\n"
          ],
          "name": "stdout"
        }
      ]
    },
    {
      "cell_type": "code",
      "metadata": {
        "colab": {
          "base_uri": "https://localhost:8080/"
        },
        "id": "V5hMJSa3jATi",
        "outputId": "c0adf450-7dd9-439f-b0e0-67bac71df9df"
      },
      "source": [
        "!python sequential.py haarcascade_frontalface_default.xml test6.jpg result_test6.jpg"
      ],
      "execution_count": null,
      "outputs": [
        {
          "output_type": "stream",
          "text": [
            "Jitted vs Numpy  error: 0.00014114114114114113\n",
            "Jitted vs Opencv error: 0.5132012012012012\n",
            "Time: 11.12686538696289\n"
          ],
          "name": "stdout"
        }
      ]
    },
    {
      "cell_type": "code",
      "metadata": {
        "colab": {
          "base_uri": "https://localhost:8080/"
        },
        "id": "RHO1pX7x9jGP",
        "outputId": "775126f5-c38b-430a-e268-70cfedb9ec38"
      },
      "source": [
        "!python sequential.py haarcascade_frontalface_default.xml input2.jpg result_output2.jpg"
      ],
      "execution_count": null,
      "outputs": [
        {
          "output_type": "stream",
          "text": [
            "Jitted vs Numpy  error: 0.001421875\n",
            "Jitted vs Opencv error: 0.4754010416666667\n",
            "Time: 8.827262163162231\n"
          ],
          "name": "stdout"
        }
      ]
    },
    {
      "cell_type": "code",
      "metadata": {
        "colab": {
          "base_uri": "https://localhost:8080/"
        },
        "id": "b6o3ZV_kaVlk",
        "outputId": "395e399c-ef24-4df0-fcd9-42e22624a014"
      },
      "source": [
        "!python sequential.py haarcascade_frontalface_default.xml input6.jpg result_output6.jpg"
      ],
      "execution_count": null,
      "outputs": [
        {
          "output_type": "stream",
          "text": [
            "Jitted vs Numpy  error: 0.00040337711069418386\n",
            "Jitted vs Opencv error: 0.5025023452157599\n",
            "Time: 10.643208026885986\n"
          ],
          "name": "stdout"
        }
      ]
    },
    {
      "cell_type": "code",
      "metadata": {
        "colab": {
          "base_uri": "https://localhost:8080/"
        },
        "id": "9Ew8QgDlrYtp",
        "outputId": "970c49a2-ab12-42ff-a698-d7c5c54e0b85"
      },
      "source": [
        "!python sequential.py haarcascade_frontalface_default.xml input29.jpg result_output29.jpg"
      ],
      "execution_count": null,
      "outputs": [
        {
          "output_type": "stream",
          "text": [
            "Jitted vs Numpy  error: 0.08250602256878407\n",
            "Jitted vs Opencv error: 0.05818118422720933\n",
            "Time: 7.374395132064819\n"
          ],
          "name": "stdout"
        }
      ]
    },
    {
      "cell_type": "code",
      "metadata": {
        "colab": {
          "base_uri": "https://localhost:8080/"
        },
        "id": "bhy-B-h1jOJ6",
        "outputId": "c988766f-454b-4ab7-a92a-c6d382b0a611"
      },
      "source": [
        "!lscpu"
      ],
      "execution_count": null,
      "outputs": [
        {
          "output_type": "stream",
          "text": [
            "Architecture:        x86_64\n",
            "CPU op-mode(s):      32-bit, 64-bit\n",
            "Byte Order:          Little Endian\n",
            "CPU(s):              2\n",
            "On-line CPU(s) list: 0,1\n",
            "Thread(s) per core:  2\n",
            "Core(s) per socket:  1\n",
            "Socket(s):           1\n",
            "NUMA node(s):        1\n",
            "Vendor ID:           GenuineIntel\n",
            "CPU family:          6\n",
            "Model:               63\n",
            "Model name:          Intel(R) Xeon(R) CPU @ 2.30GHz\n",
            "Stepping:            0\n",
            "CPU MHz:             2299.998\n",
            "BogoMIPS:            4599.99\n",
            "Hypervisor vendor:   KVM\n",
            "Virtualization type: full\n",
            "L1d cache:           32K\n",
            "L1i cache:           32K\n",
            "L2 cache:            256K\n",
            "L3 cache:            46080K\n",
            "NUMA node0 CPU(s):   0,1\n",
            "Flags:               fpu vme de pse tsc msr pae mce cx8 apic sep mtrr pge mca cmov pat pse36 clflush mmx fxsr sse sse2 ss ht syscall nx pdpe1gb rdtscp lm constant_tsc rep_good nopl xtopology nonstop_tsc cpuid tsc_known_freq pni pclmulqdq ssse3 fma cx16 pcid sse4_1 sse4_2 x2apic movbe popcnt aes xsave avx f16c rdrand hypervisor lahf_lm abm invpcid_single ssbd ibrs ibpb stibp fsgsbase tsc_adjust bmi1 avx2 smep bmi2 erms invpcid xsaveopt arat md_clear arch_capabilities\n"
          ],
          "name": "stdout"
        }
      ]
    },
    {
      "cell_type": "markdown",
      "metadata": {
        "id": "WqPmGH0mX0XE"
      },
      "source": [
        "---"
      ]
    },
    {
      "cell_type": "markdown",
      "metadata": {
        "id": "j8-Vz46wJGFc"
      },
      "source": [
        "# 3. Cài đặt song song"
      ]
    },
    {
      "cell_type": "markdown",
      "metadata": {
        "id": "EfHCf7WyKGOX"
      },
      "source": [
        "##3.1. Phân tích"
      ]
    },
    {
      "cell_type": "markdown",
      "metadata": {
        "id": "v-slhYteKVaR"
      },
      "source": [
        "Song song hoá những bước nào?\n",
        "\n",
        "+ Hàm chuyển ảnh đầu vào sang ảnh xám\n",
        "+ Hàm tính SAT \n",
        "\n",
        "Lý do: \n",
        "+ Hàm chuyển ảnh đầu vào sang ảnh xám: việc tính toán giá trị tại mỗi pixel không bị phụ thuộc nhau, có thể cho mỗi thread chịu trách nhiệm tính một giá trị xám ở ma trận kết quả.\n",
        "+ Hàm tính SAT: song song hoá lần lượt theo chiều ngang và chiều dọc của ma trận kết quả. Mỗi thread chịu trách nhiệm tính giá trị tổng tích luỹ tại một vị trí trong ma trận."
      ]
    },
    {
      "cell_type": "markdown",
      "metadata": {
        "id": "-IFHeLqaJLxD"
      },
      "source": [
        "## 3.2. Thiết kế"
      ]
    },
    {
      "cell_type": "markdown",
      "metadata": {
        "id": "oIg1WB5OjHcn"
      },
      "source": [
        "###3.2.1. Hàm chuyển ảnh đầu vào sang ảnh xám\n",
        "- Cấp phát bộ nhớ cho ma trận ảnh xám ở device.\n",
        "- Sao chép dữ liệu ảnh xám ở host vào device.\n",
        "- Cho mỗi thread tính toán một giá trị xám. Tất cả thread này hoạt động song song cùng nhau.\n",
        "- Sao chép dữ liệu từ device trở lại host."
      ]
    },
    {
      "cell_type": "markdown",
      "metadata": {
        "id": "uYAspxt2JWRk"
      },
      "source": [
        "## 3.3. Đánh giá\n",
        "Kịch bản thí nghiệm: \n",
        "\n",
        ">Ứng với từng hàm được song song hoá, đánh giá lần lượt về mặt chính xác và mặt thời gian, bằng cách so sánh kết quả ghi nhận được với kết quả chạy tuần tự. Thực nghiệm trên nhiều ảnh có độ phân giải khác nhau."
      ]
    },
    {
      "cell_type": "markdown",
      "metadata": {
        "id": "58TdaIqSwh-c"
      },
      "source": [
        "###3.3.1. Hàm chuyển ảnh đầu vào sang ảnh xám\n",
        "\n",
        "+ Ảnh kích thước 660*478:\n",
        "    + Thời gian chạy tuần tự: 0.3346562385559082 (s)\n",
        "    + Thời gian chạy song song: 0.12369370460510254 (s)\n",
        "    + Độ lỗi giữa cài đặt song song so với cài đặt tuần tuân tự: 19.931992519335616\n",
        "+ Ảnh kích thước 4368*2912:\n",
        "    + Thời gian chạy tuần tự: 0.37081336975097656 (s)\n",
        "    + Thời gian chạy song song: 0.14403653144836426 (s)\n",
        "    + Độ lỗi giữa cài đặt song song so với cài đặt tuần tuân tự: 0.6086669597572757\n",
        "    \n",
        "=> Kết luận: Thời gian thực thi song song nhanh hơn thực thi tuần tự, tuy nhiên nhanh hơn không nhiều (chỉ nhanh hơn khoảng 2.5 -> 3 lần)"
      ]
    },
    {
      "cell_type": "markdown",
      "metadata": {
        "id": "g-nPTFQPy73w"
      },
      "source": [
        "Code demo sau đây được test trên ảnh kích thước 660*478:"
      ]
    },
    {
      "cell_type": "code",
      "metadata": {
        "colab": {
          "base_uri": "https://localhost:8080/"
        },
        "id": "rDf0euRQyhv1",
        "outputId": "b4cb6299-c820-415f-b8ee-2aabdf0b7c8f"
      },
      "source": [
        "!python parallel.py input29.jpg output.jpg"
      ],
      "execution_count": 11,
      "outputs": [
        {
          "output_type": "stream",
          "text": [
            "Convert to grayscale host time: 0.35143351554870605 (s)\n",
            "Jitted vs Numpy  error: 0.08250602256878407\n",
            "Jitted vs Opencv error: 0.05818118422720933\n",
            "Convert to grayscale kernel time: 0.1322469711303711 (s)\n",
            "Parallel vs Sequential error: 19.931992519335616\n"
          ],
          "name": "stdout"
        }
      ]
    },
    {
      "cell_type": "markdown",
      "metadata": {
        "id": "wgOuuazfFMDY"
      },
      "source": [
        "Code demo sau đây được test trên ảnh kích thước 4368*2912:"
      ]
    },
    {
      "cell_type": "code",
      "metadata": {
        "colab": {
          "base_uri": "https://localhost:8080/"
        },
        "id": "QSE2N56EFjV5",
        "outputId": "5923ca55-8062-415c-a21d-5e612ec9749d"
      },
      "source": [
        "!python parallel.py input7.jpg output.jpg"
      ],
      "execution_count": 12,
      "outputs": [
        {
          "output_type": "stream",
          "text": [
            "Convert to grayscale host time: 0.37404966354370117 (s)\n",
            "Jitted vs Numpy  error: 0.002423343597794147\n",
            "Jitted vs Opencv error: 0.42634172289477923\n",
            "Convert to grayscale kernel time: 0.14476537704467773 (s)\n",
            "Parallel vs Sequential error: 0.6086669597572757\n"
          ],
          "name": "stdout"
        }
      ]
    },
    {
      "cell_type": "markdown",
      "metadata": {
        "id": "GUgMHPqLSd_x"
      },
      "source": [
        "###3.3.2. Hàm tính SAT\n",
        "    \n",
        "- Ảnh kích thước 660*478:\n",
        "    + Thời gian chạy tuần tự:0.36423826217651367 (s)\n",
        "    + Thời gian chạy song song: 0.346895694732666 (s)\n",
        "- Ảnh kích thước 4368*2912:\n",
        "    + Thời gian chạy tuần tự: 0.41354870796203613 (s)\n",
        "    + Thời gian chạy song song: 0.4497239589691162 (s)\n",
        "\n",
        "=> Kết luận: Thời gian thực thi song song hàm tính SAT chậm hơn thực thi tuần tự!"
      ]
    },
    {
      "cell_type": "markdown",
      "metadata": {
        "id": "uyTPyDqh-GHD"
      },
      "source": [
        "Code demo test trên ảnh 660*478:"
      ]
    },
    {
      "cell_type": "code",
      "metadata": {
        "colab": {
          "base_uri": "https://localhost:8080/"
        },
        "id": "_QH-byyjpxPE",
        "outputId": "196c5e28-cce8-4af1-ad6d-c611c6740192"
      },
      "source": [
        "!python parallel.py input29.jpg output.jpg"
      ],
      "execution_count": 20,
      "outputs": [
        {
          "output_type": "stream",
          "text": [
            "Convert to grayscale host time: 0.35777878761291504 (s)\n",
            "Jitted vs Numpy  error: 0.08250602256878407\n",
            "Jitted vs Opencv error: 0.05818118422720933\n",
            "Calculate SAT host time: 0.36423826217651367 (s)\n",
            "Calculate SAT kernel time: 0.346895694732666 (s)\n",
            "Parallel vs Sequential sat error: 0.0\n",
            "Parallel vs Sequential squared sat error: 0.0\n"
          ],
          "name": "stdout"
        }
      ]
    },
    {
      "cell_type": "markdown",
      "metadata": {
        "id": "Mi2mCBC8-KaJ"
      },
      "source": [
        "Code demo test trên ảnh 4368*2912:"
      ]
    },
    {
      "cell_type": "code",
      "metadata": {
        "colab": {
          "base_uri": "https://localhost:8080/"
        },
        "id": "oUyL0ITr8EOd",
        "outputId": "8663ba52-431d-47b3-8701-b4f045102a5e"
      },
      "source": [
        "!python parallel.py input7.jpg output.jpg"
      ],
      "execution_count": 25,
      "outputs": [
        {
          "output_type": "stream",
          "text": [
            "Convert to grayscale host time: 0.3820948600769043 (s)\n",
            "Jitted vs Numpy  error: 0.002423343597794147\n",
            "Jitted vs Opencv error: 0.42634172289477923\n",
            "Calculate SAT host time: 0.41354870796203613 (s)\n",
            "Calculate SAT kernel time: 0.4497239589691162 (s)\n",
            "Parallel vs Sequential sat error: 0.0\n",
            "Parallel vs Sequential squared sat error: 0.0\n"
          ],
          "name": "stdout"
        }
      ]
    }
  ]
}