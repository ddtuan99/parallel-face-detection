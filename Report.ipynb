{
  "nbformat": 4,
  "nbformat_minor": 0,
  "metadata": {
    "colab": {
      "name": "Report.ipynb",
      "provenance": [],
      "collapsed_sections": []
    },
    "kernelspec": {
      "name": "python3",
      "display_name": "Python 3"
    },
    "language_info": {
      "name": "python"
    }
  },
  "cells": [
    {
      "cell_type": "markdown",
      "metadata": {
        "id": "1ShnJC8Rv0AM"
      },
      "source": [
        "# Đồ án môn học Lập trình song song ứng dụng\n",
        "\n",
        "# Phát hiện khuôn mặt bằng Cascaded-Classifiers\n",
        "\n",
        "## Giáo viên: Trần Trung Kiên\n",
        "\n",
        "## Sinh viên:\n",
        "- 1712628 - Huỳnh Hiếu Nhân\n",
        "- 1712657 - Chung Kiệt Phong\n",
        "- 1712869 - Đào Duy Tuấn"
      ]
    },
    {
      "cell_type": "markdown",
      "metadata": {
        "id": "-7VEgJbsv4Uw"
      },
      "source": [
        "---"
      ]
    },
    {
      "cell_type": "markdown",
      "metadata": {
        "id": "_lTbVE7gXrxE"
      },
      "source": [
        "# 1. Mô tả ứng dụng"
      ]
    },
    {
      "cell_type": "markdown",
      "metadata": {
        "id": "VkkX0gY6v5co"
      },
      "source": [
        "- Nhóm em chọn ứng dụng Phát hiện khuôn mặt bằng Cascaded-Classifiers\n",
        "\t- Input: một tấm ảnh RGB\n",
        "\t- Output: tấm ảnh đầu vào có bounding box ở các khuôn mặt trong ảnh (nếu có)\n",
        "\t- Ý nghĩa của ứng dụng trong thực tế:\n",
        "\t\t- Hỗ trợ tính năng autofocus trên máy ảnh\n",
        "\t\t- Là bước quan trọng trong các hệ thống sử dụng nhận diện khuôn mặt: giám sát, an ninh, cơ sở dữ liệu, chăm sóc khách hàng ...\n",
        "\t\t- Ứng dụng để tự động đề xuất gắn thẻ cho ảnh trên mạng xã hội\n",
        "- Lý do cần tăng tốc ứng dụng:\n",
        "\t- Có nhiều ý nghĩa thực tế\n",
        "\t- Ứng dụng sẽ chạy chậm nếu cài đặt tuần tự\n",
        "\t- Nhu cầu xử lý dữ liệu lớn, ảnh có độ phân giải cao, video, streaming video trong thời gian thực\n",
        "- Tiềm năng song song hóa của ứng dụng: \n",
        "  - Các khung cửa sổ để phát hiện khuôn mặt ở mọi vị trí trong ảnh và các kích thước khác nhau của khung cửa số xử lý độc lập với nhau\n",
        "  - Tính tuần tự của các giai đoạn kiểm tra có thách thức lớn nhưng tốc độ xử lý được gia tăng đáng kể nếu có thể song song hóa phần này"
      ]
    },
    {
      "cell_type": "markdown",
      "metadata": {
        "id": "0WPaT2YewLtY"
      },
      "source": [
        "---"
      ]
    },
    {
      "cell_type": "markdown",
      "metadata": {
        "id": "7WS47gU0XR40"
      },
      "source": [
        "# 2. Cài đặt tuần tự"
      ]
    },
    {
      "cell_type": "markdown",
      "metadata": {
        "id": "kG2srB4UiYjo"
      },
      "source": [
        "## 2.1. Thiết kế"
      ]
    },
    {
      "cell_type": "markdown",
      "metadata": {
        "id": "av7_nMd0X0BM"
      },
      "source": [
        "Khái quát về Haar Cascaded-Classifiers:\n",
        "- Brute-force\n",
        "    \n",
        "    ![brute-force.gif](https://raw.githubusercontent.com/ddtuan99/parallel-face-detection/main/assets/brute-force.gif)\n",
        "- Haar-like feature\n",
        "\n",
        "    ![haar-like-feature.png](https://raw.githubusercontent.com/ddtuan99/parallel-face-detection/main/assets/haar-like-feature.png)\n",
        "    \n",
        "    Một số Feature cơ bản:\n",
        "\n",
        "    ![haar-features.png](https://raw.githubusercontent.com/ddtuan99/parallel-face-detection/main/assets/haar-features.png)\n",
        "\n",
        "- Summed Area Table\n",
        "- Cascaded-classifiers\n",
        "\n",
        "    ![cascaded-classifiers.png](https://raw.githubusercontent.com/ddtuan99/parallel-face-detection/main/assets/cascaded-classifiers.png)\n",
        "\n",
        "\n",
        "\n",
        "Các bước triển khai:\n",
        "- Input: một tấm ảnh RGB, mô hình Haar Cascade đã train sẵn\n",
        "\n",
        "- Chuyển ảnh đầu vào sang ảnh xám.\n",
        "\n",
        "- Đọc mô hình Haar Cascade: gồm nhiều Classifier, mỗi Classifier có một threshold và nhiều Tree, mỗi Tree gồm các node: node trong chứa Feature và threshold; node lá chứa giá trị trả về. Mỗi Feature được định nghĩa bởi hai hoặc ba Rectangle.\n",
        "\n",
        "    Bên trong một Classifier:\n",
        "\n",
        "    <img src=https://raw.githubusercontent.com/ddtuan99/parallel-face-detection/main/assets/classifier.jpg alt=\"classifier.jpg\" width=\"700\"/>\n",
        "\n",
        "\n",
        "- Tính Summed Area Table (SAT) là một ma trận có kích thước như ảnh đầu vào. Giá trị tại vị trí $(x, y)$ của bảng SAT được tính bằng tổng độ xám của các pixel trong hình chữ nhật có tọa độ 2 góc đối là $(0, 0)$ và $(x, y)$.\n",
        "\n",
        "    Cách tính bảng SAT và sử dụng để tính nhanh Feature:\n",
        "    ![summed-area-table.png](https://raw.githubusercontent.com/ddtuan99/parallel-face-detection/main/assets/summed-area-table.png)\n",
        "\n",
        "- Trượt khung cửa sổ có kích thước ban đầu là 24x24 trên ảnh xám. Vùng ảnh trong khung cửa sổ được đưa vào Cascaded-Classifiers. Các Tree trong một Classifier sẽ tính Feature mà nó giữ để quyết định giá trị trả về. Classifier lấy tổng giá trị của các Tree, so sánh với threshold để quyết định đẩy vùng ảnh đang xét sang Classifier sau hay loại bỏ. Ảnh cứ thế được lan truyền qua các Classifier cho tới khi bị loại bỏ hoặc ra khỏi Classifier cuối cùng thì vùng ảnh trong khung cửa sổ được ghi nhận lại. Lặp lại quá trình trên với khung cửa sổ có kích thước lớn hơn cho tới tới khi kích thước khung cửa sổ vượt quá kích thước ảnh.\n",
        "\n",
        "    Minh hoạ:\n",
        "    \n",
        "    ![sliding-dectection-window.gif](https://raw.githubusercontent.com/ddtuan99/parallel-face-detection/main/assets/sliding-dectection-window.gif)\n",
        "\n",
        "- Gom nhóm các khung cửa sổ phát hiện cùng một khuôn mặt: hai khung cửa sổ có khoảng cách giữa các cạnh tương ứng đều nhỏ hơn một hằng số $\\epsilon$ chỉ định trước thì thuộc cùng một nhóm và ngược lại. Tiếp theo:\n",
        "\t- Loại bỏ các nhóm có số khung cửa sổ thấp hơn ngưỡng chỉ định trước (giảm false positive).\n",
        "\t- Ở mỗi nhóm được giữ lại, tính trung bình tọa độ các khung cửa sổ trong nhóm để gộp các khung thành một bounding box duy nhất và vẽ lên ảnh kết quả.\n",
        "\n",
        "- Output: tấm ảnh đầu vào có bounding box ở các khuôn mặt trong ảnh (nếu có)"
      ]
    },
    {
      "cell_type": "markdown",
      "metadata": {
        "id": "WqPmGH0mX0XE"
      },
      "source": [
        "---"
      ]
    }
  ]
}