{
  "nbformat": 4,
  "nbformat_minor": 0,
  "metadata": {
    "colab": {
      "name": "Report.ipynb",
      "provenance": [],
      "collapsed_sections": [],
      "toc_visible": true
    },
    "kernelspec": {
      "name": "python3",
      "display_name": "Python 3"
    },
    "language_info": {
      "name": "python"
    }
  },
  "cells": [
    {
      "cell_type": "markdown",
      "metadata": {
        "id": "1ShnJC8Rv0AM"
      },
      "source": [
        "# Đồ án môn học Lập trình song song ứng dụng\n",
        "\n",
        "# Phát hiện khuôn mặt bằng Cascaded-Classifiers\n",
        "\n",
        "## Giáo viên: Trần Trung Kiên\n",
        "\n",
        "## Sinh viên:\n",
        "- 1712628 - Huỳnh Hiếu Nhân\n",
        "- 1712657 - Chung Kiệt Phong\n",
        "- 1712869 - Đào Duy Tuấn"
      ]
    },
    {
      "cell_type": "markdown",
      "metadata": {
        "id": "-7VEgJbsv4Uw"
      },
      "source": [
        "---"
      ]
    },
    {
      "cell_type": "markdown",
      "metadata": {
        "id": "VkkX0gY6v5co"
      },
      "source": [
        "# 1. Mô tả ứng dụng\n",
        "\n",
        "- Nhóm em chọn ứng dụng Phát hiện khuôn mặt bằng Cascaded-Classifiers\n",
        "\t- Input: Ảnh RGB có chứa mặt người.\n",
        "\t- Output: Ảnh RGB có bounding box tại các khung hình có khuôn mặt người (kích thước bounding box xấp xỉ kích thước khuôn mặt).\n",
        "\t- Ý nghĩa của ứng dụng trong thực tế: Phát hiện khuôn mặt từ hình ảnh.\n",
        "- Lý do cần tăng tốc ứng dụng:\n",
        "  - Các khung hình được kiểm tra có nhiều mức độ scale khác nhau ở các vị trí khác nhau trong ảnh dẫn đến tốc độ chậm khi kích thước ảnh lớn.\n",
        "- Tiềm năng song song hóa của ứng dụng: \n",
        "  - Quá trình kiểm tra với các mức độ scale khác nhau có tiềm năng song song hóa cao vì các kết quả của các mức độ scale khác nhau không ảnh hưởng đến nhau.\n",
        "  - Các giai đoạn kiểm tra cũng có tiềm năng song song hóa cao vì các đối tượng có thể kiểm tra các giai đoạn tiếp theo mà không cần chờ các giai đoạn khác.\n"
      ]
    }
  ]
}