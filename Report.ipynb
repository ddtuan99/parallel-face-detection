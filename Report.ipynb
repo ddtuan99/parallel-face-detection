{
  "nbformat": 4,
  "nbformat_minor": 0,
  "metadata": {
    "colab": {
      "name": "Report.ipynb",
      "provenance": [],
      "collapsed_sections": [],
      "toc_visible": true
    },
    "kernelspec": {
      "name": "python3",
      "display_name": "Python 3"
    },
    "language_info": {
      "name": "python"
    }
  },
  "cells": [
    {
      "cell_type": "markdown",
      "metadata": {
        "id": "1ShnJC8Rv0AM"
      },
      "source": [
        "# Đồ án môn học Lập trình song song ứng dụng\n",
        "\n",
        "# Phát hiện khuôn mặt bằng Cascaded-Classifiers\n",
        "\n",
        "## Giáo viên: Trần Trung Kiên\n",
        "\n",
        "## Sinh viên:\n",
        "- 1712628 - Huỳnh Hiếu Nhân\n",
        "- 1712657 - Chung Kiệt Phong\n",
        "- 1712869 - Đào Duy Tuấn"
      ]
    },
    {
      "cell_type": "markdown",
      "metadata": {
        "id": "-7VEgJbsv4Uw"
      },
      "source": [
        "---"
      ]
    },
    {
      "cell_type": "markdown",
      "metadata": {
        "id": "VkkX0gY6v5co"
      },
      "source": [
        "# 1. Mô tả ứng dụng\n",
        "\n",
        "- Nhóm em chọn ứng dụng Phát hiện khuôn mặt bằng Cascaded-Classifiers\n",
        "\t- Input: một tấm ảnh RGB\n",
        "\t- Output: tấm ảnh đầu vào có bounding box ở các khuôn mặt trong ảnh (nếu có)\n",
        "\t- Ý nghĩa của ứng dụng trong thực tế:\n",
        "\t\t- Hỗ trợ tính năng autofocus trên máy ảnh\n",
        "\t\t- Là bước quan trọng trong các hệ thống sử dụng nhận diện khuôn mặt: giám sát, an ninh, cơ sở dữ liệu, chăm sóc khách hàng ...\n",
        "\t\t- Ứng dụng để tự động đề xuất gắn thẻ cho ảnh trên mạng xã hội\n",
        "- Lý do cần tăng tốc ứng dụng:\n",
        "\t- Có nhiều ý nghĩ thực tế\n",
        "\t- Ứng dụng sẽ chạy chậm nếu cài đặt tuần tự\n",
        "\t- Nhu cầu xử lý dữ liệu lớn, ảnh có độ phân giải ngày càng cao, video, streaming video trong thời gian thực gia tăng\n",
        "- Tiềm năng song song hóa của ứng dụng: \n",
        "  - Các khung cửa sổ để phát hiện khuôn mặt ở mọi vị trí trong ảnh và các kích thước khác nhau của khung cửa số xử lý độc lập với nhau\n",
        "  - Các giai đoạn kiểm tra cũng có tiềm năng song song hóa cao vì các đối tượng chỉ có thể kiểm tra các giai đoạn tiếp theo khi giai đoạn trước đã hoàn thành\n",
        "\n",
        "# 2. Cài đặt tuần tự\n",
        "\n",
        "## 2.1. Thiết kế\n",
        "- Input: một tấm ảnh RGB\n",
        "- Chuyển ảnh input sang dạng Grayscale và truyền vào hàm xử lý chính\n",
        "- Từ hàm xử lý chính, tạo các biến tạm chứa các giá trị cần thiết để truyền cùng với ảnh input vào các hàm đánh giá (stages)\n",
        "- Sử dụng kết quả đầu ra từ đánh giá trước cho đầu vào của đánh giá sau (Dừng nếu kết quả chưa vượt qua ngưỡng threshold)\n",
        "- Output: tấm ảnh đầu vào có bounding box ở các khuôn mặt trong ảnh (nếu có)"
      ]
    },
    {
      "cell_type": "markdown",
      "metadata": {
        "id": "0WPaT2YewLtY"
      },
      "source": [
        "---"
      ]
    }
  ]
}