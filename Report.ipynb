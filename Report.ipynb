{
  "nbformat": 4,
  "nbformat_minor": 0,
  "metadata": {
    "colab": {
      "name": "Report.ipynb",
      "provenance": [],
      "collapsed_sections": [],
      "toc_visible": true
    },
    "kernelspec": {
      "name": "python3",
      "display_name": "Python 3"
    },
    "language_info": {
      "name": "python"
    },
    "accelerator": "GPU"
  },
  "cells": [
    {
      "cell_type": "markdown",
      "metadata": {
        "id": "1ShnJC8Rv0AM"
      },
      "source": [
        "# Đồ án môn học Lập trình song song ứng dụng\n",
        "\n",
        "# Phát hiện khuôn mặt bằng Cascaded-Classifiers\n",
        "\n",
        "## Giáo viên: Trần Trung Kiên\n",
        "\n",
        "## Sinh viên:\n",
        "- 1712628 - Huỳnh Hiếu Nhân\n",
        "- 1712657 - Chung Kiệt Phong\n",
        "- 1712869 - Đào Duy Tuấn"
      ]
    },
    {
      "cell_type": "markdown",
      "metadata": {
        "id": "-7VEgJbsv4Uw"
      },
      "source": [
        "---"
      ]
    },
    {
      "cell_type": "markdown",
      "metadata": {
        "id": "_lTbVE7gXrxE"
      },
      "source": [
        "# 1. Mô tả ứng dụng"
      ]
    },
    {
      "cell_type": "markdown",
      "metadata": {
        "id": "VkkX0gY6v5co"
      },
      "source": [
        "- Nhóm em chọn ứng dụng Phát hiện khuôn mặt bằng Cascaded-Classifiers\n",
        "\t- Input: một tấm ảnh RGB\n",
        "\t- Output: tấm ảnh đầu vào có bounding box ở các khuôn mặt trong ảnh (nếu có)\n",
        "\t- Ý nghĩa của ứng dụng trong thực tế:\n",
        "\t\t- Hỗ trợ tính năng autofocus trên máy ảnh\n",
        "\t\t- Là bước quan trọng trong các hệ thống sử dụng nhận diện khuôn mặt: giám sát, an ninh, cơ sở dữ liệu, chăm sóc khách hàng ...\n",
        "\t\t- Ứng dụng để tự động đề xuất gắn thẻ cho ảnh trên mạng xã hội\n",
        "- Lý do cần tăng tốc ứng dụng:\n",
        "\t- Có nhiều ý nghĩa thực tế\n",
        "\t- Ứng dụng sẽ chạy chậm nếu cài đặt tuần tự\n",
        "\t- Nhu cầu xử lý dữ liệu lớn, ảnh có độ phân giải cao, video, streaming video trong thời gian thực\n",
        "- Tiềm năng song song hóa của ứng dụng: \n",
        "  - Các khung cửa sổ để phát hiện khuôn mặt ở mọi vị trí trong ảnh và các kích thước khác nhau của khung cửa số xử lý độc lập với nhau\n",
        "  - Tính tuần tự của các giai đoạn kiểm tra có thách thức lớn nhưng tốc độ xử lý được gia tăng đáng kể nếu có thể song song hóa phần này"
      ]
    },
    {
      "cell_type": "markdown",
      "metadata": {
        "id": "0WPaT2YewLtY"
      },
      "source": [
        "---"
      ]
    },
    {
      "cell_type": "markdown",
      "metadata": {
        "id": "7WS47gU0XR40"
      },
      "source": [
        "# 2. Cài đặt tuần tự"
      ]
    },
    {
      "cell_type": "markdown",
      "metadata": {
        "id": "kG2srB4UiYjo"
      },
      "source": [
        "## 2.1. Thiết kế"
      ]
    },
    {
      "cell_type": "markdown",
      "metadata": {
        "id": "av7_nMd0X0BM"
      },
      "source": [
        "###- Khái quát về Haar Cascaded-Classifiers:\n",
        "- Quá trình Brute-force.\n",
        "\n",
        "- Các feature được sử dụng.\n",
        "\n",
        "- Summed Area Table.\n",
        "\n",
        "- Thế nào là Cascaded-classifiers ?\n",
        "\n",
        "###- Brute-force\n",
        "    \n",
        "![brute-force.gif](https://raw.githubusercontent.com/ddtuan99/parallel-face-detection/main/assets/brute-force.gif)\n",
        "\n",
        "###- Haar-like feature\n",
        "\n",
        "![haar-like-feature.png](https://raw.githubusercontent.com/ddtuan99/parallel-face-detection/main/assets/haar-like-feature.png)\n",
        "    \n",
        "- Một số Feature cơ bản:\n",
        "\n",
        "![haar-features.png](https://raw.githubusercontent.com/ddtuan99/parallel-face-detection/main/assets/haar-features.png)\n",
        "\n",
        "###- Summed Area Table\n",
        "###- Cascaded-classifiers\n",
        "\n",
        "![cascaded-classifiers.png](https://raw.githubusercontent.com/ddtuan99/parallel-face-detection/main/assets/cascaded-classifiers.png)\n",
        "\n"
      ]
    },
    {
      "cell_type": "markdown",
      "metadata": {
        "id": "pc5GQ8803ZXv"
      },
      "source": [
        ""
      ]
    },
    {
      "cell_type": "markdown",
      "metadata": {
        "id": "f7WW1Gav3hFL"
      },
      "source": [
        "###- Các bước triển khai:\n",
        "- Input, Output.\n",
        "\n",
        "- Chuyển ảnh đầu vào sang ảnh xám.\n",
        "\n",
        "- Đọc mô hình Haar Cascade.\n",
        "\n",
        "- Tính Summed Area Table (SAT).\n",
        "\n",
        "- Trượt khung cửa sổ classifier.\n",
        "\n",
        "- Gom nhóm các khung cửa sổ.\n",
        "\n",
        "###- Input: \n",
        "Một tấm ảnh RGB, mô hình Haar Cascade đã train sẵn\n",
        "\n",
        "### - Đọc mô hình Haar Cascade: \n",
        "Dữ liệu dùng để train: 5000 mẫu positive và 3000 mẫu negative\n",
        "\n",
        "Gồm nhiều Classifier, mỗi Classifier có một threshold và nhiều Tree, mỗi Tree gồm các node: node trong chứa Feature và threshold; node lá chứa giá trị trả về. Mỗi Feature được định nghĩa bởi hai hoặc ba Rectangle.\n",
        "\n",
        "Bên trong một Classifier:\n",
        "\n",
        "<img src=https://raw.githubusercontent.com/ddtuan99/parallel-face-detection/main/assets/classifier.jpg alt=\"classifier.jpg\" width=\"700\"/>\n",
        "\n",
        "\n",
        "###- Tính Summed Area Table (SAT):\n",
        "Là một ma trận có kích thước như ảnh đầu vào. Giá trị tại vị trí $(x, y)$ của bảng SAT được tính bằng tổng độ xám của các pixel trong hình chữ nhật có tọa độ 2 góc đối là $(0, 0)$ và $(x, y)$.\n",
        "\n",
        "- Cách tính bảng SAT và sử dụng để tính nhanh Feature:\n",
        "\n",
        "![summed-area-table.png](https://raw.githubusercontent.com/ddtuan99/parallel-face-detection/main/assets/summed-area-table.png)\n",
        "\n",
        "###- Trượt khung cửa sổ:\n",
        "Có kích thước ban đầu là 24x24 trên ảnh xám. Vùng ảnh trong khung cửa sổ được đưa vào Cascaded-Classifiers. Các Tree trong một Classifier sẽ tính Feature mà nó giữ để quyết định giá trị trả về. Classifier lấy tổng giá trị của các Tree, so sánh với threshold để quyết định đẩy vùng ảnh đang xét sang Classifier sau hay loại bỏ. Ảnh cứ thế được lan truyền qua các Classifier cho tới khi bị loại bỏ hoặc ra khỏi Classifier cuối cùng thì vùng ảnh trong khung cửa sổ được ghi nhận lại. Lặp lại quá trình trên với khung cửa sổ có kích thước lớn hơn cho tới tới khi kích thước khung cửa sổ vượt quá kích thước ảnh.\n",
        "\n",
        "- Minh hoạ:\n",
        "    \n",
        "![sliding-dectection-window.gif](https://raw.githubusercontent.com/ddtuan99/parallel-face-detection/main/assets/sliding-dectection-window.gif)\n",
        "\n",
        "###- Gom nhóm các khung cửa sổ:\n",
        "Phát hiện cùng một khuôn mặt: hai khung cửa sổ có khoảng cách giữa các cạnh tương ứng đều nhỏ hơn một hằng số $\\epsilon$ chỉ định trước thì thuộc cùng một nhóm và ngược lại. Tiếp theo:\n",
        "\t- Loại bỏ các nhóm có số khung cửa sổ thấp hơn ngưỡng chỉ định trước (giảm false positive).\n",
        "\t- Ở mỗi nhóm được giữ lại, tính trung bình tọa độ các khung cửa sổ trong nhóm để gộp các khung thành một bounding box duy nhất và vẽ lên ảnh kết quả.\n",
        "\n",
        "###- Output: \n",
        "Tấm ảnh đầu vào có bounding box ở các khuôn mặt trong ảnh (nếu có)"
      ]
    },
    {
      "cell_type": "markdown",
      "metadata": {
        "id": "FTDOF_qH29A5"
      },
      "source": [
        "## 2.2. Đánh giá\n",
        "\n",
        "- #### Kịch bản thí nghiệm : \n",
        "    - Thí nghiệm trên ảnh 1000 x 666 có 11 mặt người.\n",
        "\n",
        "    ![picture](https://drive.google.com/uc?export=view&id=1PyMd0pD-uG4uIJlZ6Szds_xqHrwbyGdg)\n",
        "\n",
        "    - Thí nghiệm trên ảnh 501 x 350 có 1 mặt người.\n",
        "\n",
        "    ![picture](https://drive.google.com/uc?export=view&id=1yR2Rik1caiR3o1WuYUYVp-RbfECHoKPi)\n",
        "\n",
        "- #### Có đúng không? \n",
        "    - Kết quả chạy ảnh có 1 mặt người đúng.\n",
        "\n",
        "    ![picture](https://drive.google.com/uc?export=view&id=1UfrFaAEJGagkZ75SXFSy3JPNYQgCJ-W9)\n",
        "\n",
        "    - Kết quả chạy ảnh 8 mặt người có một phần đúng và một phần sai.\n",
        "\n",
        "    ![picture](https://drive.google.com/uc?export=view&id=16r9xUJPw-n-5Zp5neBkNSDc5uH0kAOrn)\n",
        "    \n",
        "- #### Chạy code :"
      ]
    },
    {
      "cell_type": "code",
      "metadata": {
        "colab": {
          "base_uri": "https://localhost:8080/"
        },
        "id": "xWjeodqAi3_8",
        "outputId": "34d8bd81-1123-4117-96fb-b284d3e5d5de"
      },
      "source": [
        "!python sequential.py haarcascade_frontalface_default.xml test.jpg result_test.jpg"
      ],
      "execution_count": null,
      "outputs": [
        {
          "output_type": "stream",
          "text": [
            "Jitted vs Numpy  error: 0.0009409751924721985\n",
            "Jitted vs Opencv error: 0.43670373538637014\n",
            "Time: 4.023804664611816\n"
          ],
          "name": "stdout"
        }
      ]
    },
    {
      "cell_type": "code",
      "metadata": {
        "colab": {
          "base_uri": "https://localhost:8080/"
        },
        "id": "V5hMJSa3jATi",
        "outputId": "c0adf450-7dd9-439f-b0e0-67bac71df9df"
      },
      "source": [
        "!python sequential.py haarcascade_frontalface_default.xml test6.jpg result_test6.jpg"
      ],
      "execution_count": null,
      "outputs": [
        {
          "output_type": "stream",
          "text": [
            "Jitted vs Numpy  error: 0.00014114114114114113\n",
            "Jitted vs Opencv error: 0.5132012012012012\n",
            "Time: 11.12686538696289\n"
          ],
          "name": "stdout"
        }
      ]
    },
    {
      "cell_type": "code",
      "metadata": {
        "colab": {
          "base_uri": "https://localhost:8080/"
        },
        "id": "bhy-B-h1jOJ6",
        "outputId": "c988766f-454b-4ab7-a92a-c6d382b0a611"
      },
      "source": [
        "!lscpu"
      ],
      "execution_count": null,
      "outputs": [
        {
          "output_type": "stream",
          "text": [
            "Architecture:        x86_64\n",
            "CPU op-mode(s):      32-bit, 64-bit\n",
            "Byte Order:          Little Endian\n",
            "CPU(s):              2\n",
            "On-line CPU(s) list: 0,1\n",
            "Thread(s) per core:  2\n",
            "Core(s) per socket:  1\n",
            "Socket(s):           1\n",
            "NUMA node(s):        1\n",
            "Vendor ID:           GenuineIntel\n",
            "CPU family:          6\n",
            "Model:               63\n",
            "Model name:          Intel(R) Xeon(R) CPU @ 2.30GHz\n",
            "Stepping:            0\n",
            "CPU MHz:             2299.998\n",
            "BogoMIPS:            4599.99\n",
            "Hypervisor vendor:   KVM\n",
            "Virtualization type: full\n",
            "L1d cache:           32K\n",
            "L1i cache:           32K\n",
            "L2 cache:            256K\n",
            "L3 cache:            46080K\n",
            "NUMA node0 CPU(s):   0,1\n",
            "Flags:               fpu vme de pse tsc msr pae mce cx8 apic sep mtrr pge mca cmov pat pse36 clflush mmx fxsr sse sse2 ss ht syscall nx pdpe1gb rdtscp lm constant_tsc rep_good nopl xtopology nonstop_tsc cpuid tsc_known_freq pni pclmulqdq ssse3 fma cx16 pcid sse4_1 sse4_2 x2apic movbe popcnt aes xsave avx f16c rdrand hypervisor lahf_lm abm invpcid_single ssbd ibrs ibpb stibp fsgsbase tsc_adjust bmi1 avx2 smep bmi2 erms invpcid xsaveopt arat md_clear arch_capabilities\n"
          ],
          "name": "stdout"
        }
      ]
    },
    {
      "cell_type": "markdown",
      "metadata": {
        "id": "WqPmGH0mX0XE"
      },
      "source": [
        "---"
      ]
    },
    {
      "cell_type": "code",
      "metadata": {
        "id": "8JjDeFJ_aSw1",
        "colab": {
          "base_uri": "https://localhost:8080/"
        },
        "outputId": "33bd7923-bc79-449c-b5a2-b0d78ed3a51a"
      },
      "source": [
        "from numba import cuda\n",
        "cuda.detect()"
      ],
      "execution_count": null,
      "outputs": [
        {
          "output_type": "stream",
          "text": [
            "Found 1 CUDA devices\n",
            "id 0             b'Tesla T4'                              [SUPPORTED]\n",
            "                      compute capability: 7.5\n",
            "                           pci device id: 4\n",
            "                              pci bus id: 0\n",
            "Summary:\n",
            "\t1/1 devices are supported\n"
          ],
          "name": "stdout"
        },
        {
          "output_type": "execute_result",
          "data": {
            "text/plain": [
              "True"
            ]
          },
          "metadata": {
            "tags": []
          },
          "execution_count": 1
        }
      ]
    }
  ]
}